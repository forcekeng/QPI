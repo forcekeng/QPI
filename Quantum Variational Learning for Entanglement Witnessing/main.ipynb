{
    "cells": [
        {
            "cell_type": "code",
            "execution_count": null,
            "id": "47174023-c012-46fb-8687-893e880d7bf3",
            "metadata": {},
            "outputs": [],
            "source": [
                "import time\n",
                "import tqdm\n",
                "import random\n",
                "from typing import List\n",
                "import itertools as it\n",
                "import numpy as np\n",
                "import matplotlib.pyplot as plt\n",
                "from scipy.optimize import fmin_cobyla\n",
                "\n",
                "from mindquantum.core.operators import QubitOperator\n",
                "from mindquantum.core.operators import Hamiltonian\n",
                "from mindquantum.simulator import Simulator\n",
                "from mindquantum import H, X, Z, RY, UN, CNOT, Circuit\n",
                "import mindspore.context as context\n",
                "\n",
                "context.set_context(mode=context.PYNATIVE_MODE, device_target=\"CPU\")"
            ]
        },
        {
            "cell_type": "markdown",
            "id": "4c5bf5b6-80f5-425d-aa25-3bb2aca293e2",
            "metadata": {},
            "source": [
                "## 1. 数据集\n",
                "\n",
                "整个训练过程和机器学习一致，首先应准备数据集，然后使用 VQA 训练网络参数。\n",
                "\n",
                "根据论文，将论文 [1][Francesco Scala, etc. Quantum variational learning for entanglement witnessing] 中 `A. Exact witness computation` 识别出的纠缠态（共18个，对应图5中高于红线以上的态）对应的标签为 1，其余将可分离（bi-separable）状态（对应图5中橙色线）的前一半的标签设为 0，另外将为未识别出来的纠缠态的前一半再取 60% 的标签设为 0. 取一半的原因是因为数据具有对称性。\n",
                "\n",
                "此处将获取可分离态、获取识别纠缠态等用代码复现。"
            ]
        },
        {
            "cell_type": "markdown",
            "id": "d153babc-8468-4a55-a647-441c626bd152",
            "metadata": {},
            "source": [
                "### 1.1 Bi-separable states\n",
                "\n",
                "通过逐一列举，获取 3-bits 系统中所有可以分为两个子系统的态。由于 REW 态是所有状态等权重混合，只有每个成分前面的正负号不同，对于3比特的 REW 态，共有8个成分，因此将每个成分前面的符号拿出来共有 2^8 = 256 种组合，因此用数值 0-255 表示。在代码中，负号用 1 代替，正号用 0 代替，这样可以形成01的二进制串，转换成10进制即为0-255之间的数值。"
            ]
        },
        {
            "cell_type": "code",
            "execution_count": 2,
            "id": "ae8a30a5-bd71-438e-84b7-1429f3742a66",
            "metadata": {},
            "outputs": [],
            "source": [
                "def get_separable_states() -> List:\n",
                "    \"\"\"Get all 3-bits bi-separable states and represented by digit that\n",
                "    range from 0 to 255\"\"\"\n",
                "    pm1bit = list(it.product([-1, 1], repeat=2))\n",
                "    pm2bit = list(it.product([-1, 1], repeat=4))\n",
                "    pm3bit = np.array([np.kron(a, b) for a in pm1bit for b in pm2bit])\n",
                "    str1bit = ['0', '1']\n",
                "    str2bit = ['00', '01', '10', '11']\n",
                "    strs1 = [a + b for a in str1bit for b in str2bit]\n",
                "    strs2 = [b + a for a in str1bit for b in str2bit]\n",
                "    strs3 = [b[0] + a + b[1] for a in str1bit for b in str2bit]\n",
                "    strs4 = [b[1] + a + b[0] for a in str1bit for b in str2bit]\n",
                "    strs3bit = [strs1, strs2, strs3, strs4]\n",
                "    sep_digits = []\n",
                "    for strs in strs3bit:\n",
                "        for pm in pm3bit:\n",
                "            # sorted to make the string in the order of: |0>, |1>,..., |7>\n",
                "            pm_strs = sorted(zip(pm, strs), key=lambda x: x[1])\n",
                "            # map {-1, 1} to {0, 1}\n",
                "            pm, _ = zip(*pm_strs)\n",
                "            pm = np.array(pm)\n",
                "            pm[pm == -1] = 0  # change -1 to 0\n",
                "            i = (np.array(pm) * np.array([128, 64, 32, 16, 8, 4, 2, 1])).sum()\n",
                "            sep_digits.append(i)\n",
                "    sep_digits = sorted(list(set(sep_digits)))\n",
                "    return sep_digits"
            ]
        },
        {
            "cell_type": "markdown",
            "id": "6717982e-b9dd-4f12-a506-4d32d3eeead7",
            "metadata": {},
            "source": [
                "### 1.2 Recognized entangled states\n",
                "\n",
                "取参考态 $|H\\rangle=[0, 0, 0, 0, 0, 1, 1, 0]$，计算各个态与参考态的激活值，激活值也相当于 overlap 或 fidelity, 其值为 $Tr[\\rho |H\\rangle\\langle H|]$ 。如果高于阈值（文中取 0.5），即为识别出来的可分离态。由于激活值的两个态只是 REW 前面的符号不同，因此使用异或运算等计算激活值。"
            ]
        },
        {
            "cell_type": "code",
            "execution_count": 3,
            "id": "3ff6a035-40a7-4810-ab72-e4a7b5cb8488",
            "metadata": {},
            "outputs": [],
            "source": [
                "def get_overlap(fx: List, ref: List, n=3) -> float:\n",
                "    \"\"\"Get overlap between `fx` and `ref`.\n",
                "\n",
                "    Args:\n",
                "        fx: The input state to calculate the overlap (fidelity).\n",
                "        ref: The reference state.\n",
                "        n: number of qubits.\n",
                "\n",
                "    Return:\n",
                "        act: The overlap value, which is called overlap or fidelity as well.\n",
                "    \"\"\"\n",
                "    xor = np.array(list(map(lambda x, y: x ^ y, fx, ref)))\n",
                "    act = np.abs(((-1)**xor).sum()) / 2**n\n",
                "    return act\n",
                "\n",
                "\n",
                "def get_recognized_entangled_states():\n",
                "    \"\"\"Get recognized entangled states.\n",
                "    \"\"\"\n",
                "    n = 3                                     # number of qubits\n",
                "    ref = [0, 0, 0, 0, 0, 1, 1, 0]            # reference states\n",
                "    fxs = list(it.product([0, 1], repeat=8))  # all states\n",
                "    rec_ent_states = []\n",
                "    for fx in fxs:\n",
                "        v = get_overlap(fx, ref, n)\n",
                "        if v > 0.5:\n",
                "            rec_ent_states.append(\n",
                "                (np.array(fx) * np.array([128, 64, 32, 16, 8, 4, 2, 1]))\n",
                "                .sum()\n",
                "            )\n",
                "    return rec_ent_states"
            ]
        },
        {
            "cell_type": "markdown",
            "id": "983d4152-418a-4784-b454-20e2946209a3",
            "metadata": {},
            "source": [
                "### 1.3 训练数据"
            ]
        },
        {
            "cell_type": "code",
            "execution_count": 4,
            "id": "1cb8637f-7da3-4bcf-8193-80d25a8cebe8",
            "metadata": {},
            "outputs": [],
            "source": [
                "def prepare_training_data():\n",
                "    \"\"\"Prepare the training data.\n",
                "    \"\"\"\n",
                "    # bi-separable states\n",
                "    sep_states = get_separable_states()\n",
                "    # recognized entangled states\n",
                "    rec_ent_states = get_recognized_entangled_states()\n",
                "    # unrecognized entangled states\n",
                "    unrec_ent_states = list(\n",
                "        set(range(256)) - set(sep_states) - set(rec_ent_states)\n",
                "    )\n",
                "    # split the train data according to the proportion in paper.\n",
                "    half_fun = lambda x: x <= 127\n",
                "    x0 = list(filter(half_fun, sep_states))\n",
                "    x0 += random.sample(list(filter(half_fun, unrec_ent_states)),\n",
                "                        int(256 / 2 * 0.6))\n",
                "    y0 = [0] * len(x0)\n",
                "    x1 = rec_ent_states\n",
                "    y1 = [1] * len(x1)\n",
                "    x = x0 + x1\n",
                "    y = y0 + y1\n",
                "    return (x, y)"
            ]
        },
        {
            "cell_type": "markdown",
            "id": "96e7ad84-b24c-43d8-9721-0046faed9732",
            "metadata": {},
            "source": [
                "## 2. 量子线路\n",
                "\n",
                "量子线路主要包括编码器（Encoder）线路和 ansatz，编码器及将 REW 态转换成量子线路实现，使用论文[2][M. Rossi, M. Huber, D. Bruß, et al. Quantum hypergraph states] 提出的方法实现编码器。 ansatz 比较简单，直接按照论文[1] Fig.2 实现即可。"
            ]
        },
        {
            "cell_type": "markdown",
            "id": "ebcb728c-33f3-4de8-91cd-631a0d3afb0b",
            "metadata": {},
            "source": [
                "### 2.1 Encoder"
            ]
        },
        {
            "cell_type": "code",
            "execution_count": 5,
            "id": "1d01a8e5-f11b-4e42-9dc5-5f873eece8f2",
            "metadata": {},
            "outputs": [],
            "source": [
                "def int2signs(i: int) -> List:\n",
                "    \"\"\"Convert a integral to a 8-bits sign array, such as 11=|0000 0111>,\n",
                "    map 1 to -1, map 0 to 1, so the result is [1, 1, 1, 1, 1, -1, -1, -1];\n",
                "\n",
                "    Args:\n",
                "        i: the input integral.\n",
                "    Return:\n",
                "        signs: the sign array corresponding to the `i`.\n",
                "    \"\"\"\n",
                "    signs = []\n",
                "    for _ in range(8):\n",
                "        tmp = -1 if i % 2 else 1\n",
                "        signs.insert(0, tmp)\n",
                "        i = i // 2\n",
                "    return signs\n",
                "\n",
                "\n",
                "def get_operation(signs: List) -> List:\n",
                "    \"\"\"Generate the operations according to `signs`, these rules refers to\n",
                "    paper: M. Rossi, M. Huber, D. Bruß, et al. Quantum hypergraph states.\n",
                "\n",
                "    Args:\n",
                "        signs: the signs of REW states, a array with 8 bits and composed of -1 or 1.\n",
                "\n",
                "    Return:\n",
                "        ops: The qubits that Z(controlled-Z) gates apply to.\n",
                "    \"\"\"\n",
                "    ops = []\n",
                "    signs = np.array(signs)\n",
                "    if signs[0] == -1:\n",
                "        signs = -signs\n",
                "    if signs[1] == -1:\n",
                "        signs[[1, 3, 5, 7]] *= -1\n",
                "        ops.append((0,))\n",
                "    if signs[2] == -1:\n",
                "        signs[[2, 3, 6, 7]] *= -1\n",
                "        ops.append((1,))\n",
                "    if signs[4] == -1:\n",
                "        signs[[4, 5, 6, 7]] *= -1\n",
                "        ops.append((2,))\n",
                "    if signs[3] == -1:\n",
                "        signs[[3, 7]] *= -1\n",
                "        ops.append((0, 1))\n",
                "    if signs[5] == -1:\n",
                "        signs[[5, 7]] *= -1\n",
                "        ops.append((0, 2))\n",
                "    if signs[6] == -1:\n",
                "        signs[[6, 7]] *= -1\n",
                "        ops.append((1, 2))\n",
                "    if signs[7] == -1:\n",
                "        signs[7] *= -1\n",
                "        ops.append((0, 1, 2))\n",
                "    return ops\n",
                "\n",
                "\n",
                "def prepare_states_circuit(ops: List) -> Circuit:\n",
                "    \"\"\"Prepare REW states circuit.\n",
                "\n",
                "    Args:\n",
                "        ops: The operations that prepare the circuit.\n",
                "\n",
                "    Return:\n",
                "        cir: The quantum circuit to prepare the state corresponding to `ops`.\n",
                "    \"\"\"\n",
                "    cir = Circuit()\n",
                "    cir += UN(H, [0, 1, 2])\n",
                "    for op in ops:\n",
                "        cir += Z.on(op[0], op[1:])\n",
                "    return cir\n",
                "\n",
                "\n",
                "def get_encoder(i: int) -> Circuit:\n",
                "    \"\"\"Get the encoder circuit corresponding to `i`.\n",
                "\n",
                "    Args:\n",
                "        i: The data, which means the signs of a REW state.\n",
                "\n",
                "    Return:\n",
                "        cir: The circuit to prepare the state of determined by `i`.\n",
                "    \"\"\"\n",
                "    signs = int2signs(i)\n",
                "    ops = get_operation(signs)\n",
                "    cir = prepare_states_circuit(ops)\n",
                "    return cir"
            ]
        },
        {
            "cell_type": "markdown",
            "id": "1e8b8577-70dd-4cb5-b7e8-d8d1ad647df0",
            "metadata": {},
            "source": [
                "### 2.2 Ansatz"
            ]
        },
        {
            "cell_type": "code",
            "execution_count": 6,
            "id": "fbe38ce8-309c-4b85-b429-dadf92290452",
            "metadata": {},
            "outputs": [],
            "source": [
                "def get_ansatz():\n",
                "    \"\"\"Prepare the ansatz proposed in paper: Francesco Scala et al.\n",
                "    Quantum variational learning for entanglement witnessing.\n",
                "    \"\"\"\n",
                "    ansatz = Circuit([\n",
                "        RY('theta0').on(0),\n",
                "        RY('theta1').on(1),\n",
                "        RY('theta2').on(2),\n",
                "        CNOT(1, 0),\n",
                "        CNOT(2, 0),\n",
                "        CNOT(2, 1),\n",
                "        RY('theta3').on(0),\n",
                "        RY('theta4').on(1),\n",
                "        RY('theta5').on(2),\n",
                "        CNOT(1, 0),\n",
                "        CNOT(2, 0),\n",
                "        CNOT(2, 1),\n",
                "        RY('theta6').on(0),\n",
                "        RY('theta7').on(1),\n",
                "        RY('theta8').on(2),\n",
                "    ])\n",
                "    return ansatz"
            ]
        },
        {
            "cell_type": "markdown",
            "id": "2f5fbfa7-e1d0-4651-88cd-f3075c6eb5eb",
            "metadata": {},
            "source": [
                "### 2.3 Full circuit"
            ]
        },
        {
            "cell_type": "code",
            "execution_count": 7,
            "id": "89bdde9e-3751-45dc-bb1e-d6c6b0e8f3bb",
            "metadata": {},
            "outputs": [],
            "source": [
                "def get_full_circuit(i: int) -> Circuit:\n",
                "    \"\"\"Get the full circuit with initial state is `i`.\n",
                "    \"\"\"\n",
                "    encoder = get_encoder(i)\n",
                "    ansatz = get_ansatz()\n",
                "    cir = encoder + ansatz\n",
                "    cir += X(3, [0, 1, 2])\n",
                "    return cir"
            ]
        },
        {
            "cell_type": "markdown",
            "id": "4fa375c8-54cd-4db2-966d-3fb6475ec2e3",
            "metadata": {},
            "source": [
                "## 3. 训练与验证\n",
                "\n",
                "方法一：使用梯度下降法（gradient descent）训练网络参数，由于使用单个样本训练最后容易受单个参数影响，因此使用多个数据同时计算梯度累加，减少误差。另外使得学习率不断变小，避免震荡。在计算损失时，由于bi-seperable的标签为 $0$，其余标签为 $1$，使用 $Z3$ 做哈密顿量测量第4个量子比特的期望值（取值范围为 $[-1, 1]$）。采用交叉熵损失，具体做法为在梯度求解中根据期望值求得的变量梯度计算交叉熵损失下的变量梯度。由于正负样本不平衡，对较少样本损失乘以一定权重（代码中取 $10$），为了避免梯度太大等造成误差，将梯度使用 `clip` 函数截断。"
            ]
        },
        {
            "cell_type": "code",
            "execution_count": 9,
            "id": "37429018-e286-4d26-b12d-db61f2a99bbf",
            "metadata": {},
            "outputs": [],
            "source": [
                "def train_gd():\n",
                "    n_qubits = 4     # number of qubits\n",
                "    batch_size = 16  # batch size\n",
                "    lr = 0.02        # learning rate\n",
                "    decay = 0.99     # learning rate decay\n",
                "    n_iter = 300     # number of iteration\n",
                "\n",
                "    sim = Simulator('mqvector', n_qubits)\n",
                "    ham = Hamiltonian(QubitOperator('Z3'))\n",
                "    weight = np.array([0] * 9, dtype=np.float32)\n",
                "    x, y = prepare_training_data()\n",
                "\n",
                "    for _ in tqdm.tqdm(range(n_iter)):\n",
                "        grad = np.zeros_like(weight)\n",
                "        for _ in range(batch_size):\n",
                "            xi, yi = random.choice(list(zip(x, y)))\n",
                "            cir = get_full_circuit(xi)\n",
                "            grad_ops = sim.get_expectation_with_grad(ham, cir)\n",
                "            f, g = grad_ops(weight)\n",
                "            p = np.real((1.0 + f[0, 0]) / 2.)\n",
                "            g = np.real(g.ravel())\n",
                "            g0 = yi / 2 / p * g\n",
                "            g1 = -(1 - yi) / 2 / (1 - p) * g\n",
                "            g0 = np.clip(10.0 * g0, -20, 20)\n",
                "            g1 = np.clip(g1, -20, 20)\n",
                "            grad += g0 + g1\n",
                "        weight -= lr * grad\n",
                "        lr *= decay\n",
                "    return weight"
            ]
        },
        {
            "cell_type": "markdown",
            "id": "b543e62f-be92-4df5-a18c-7036c053f345",
            "metadata": {},
            "source": [
                "方法二：基于所给数据进行训练，按照论文中使用交叉熵作为损失函数，使用 COBYLA 优化器更新参数。调用 `scipy` 库的优化函数 `fmin_cobyla`。验证时将各个 REW 态输入，查看网络判别结果。"
            ]
        },
        {
            "cell_type": "code",
            "execution_count": 10,
            "id": "74a94867-f0bc-4d42-8d74-4cb64d3ba8c6",
            "metadata": {},
            "outputs": [],
            "source": [
                "def train_cobyla():\n",
                "    \"\"\"Train the network with COBYLA optimizer to optimize the parameters.\n",
                "    \"\"\"\n",
                "    def objective(pr):\n",
                "        \"\"\"The objective function.\n",
                "        \"\"\"\n",
                "        v = 0.0\n",
                "        for xi, yi in zip(x, y):\n",
                "            cir = get_full_circuit(xi)\n",
                "            qs = cir.get_qs(pr=pr)\n",
                "            pi = np.abs(qs[-1]**2).sum()\n",
                "            v -= yi * np.log(pi) + (1 - yi) * np.log(1 - pi)\n",
                "        return v\n",
                "\n",
                "    x, y = prepare_training_data()\n",
                "    print(f\"Finish preparing data, with {len(x)} items.\")\n",
                "    params = np.random.uniform(size=9)\n",
                "    print(\"Begin training, it may take several minutes on cpu.\")\n",
                "    best_pr = fmin_cobyla(objective, params, cons=[])\n",
                "    print(f\"Finish training, the best parameters are:\\n{best_pr}.\\n\")\n",
                "    return best_pr"
            ]
        },
        {
            "cell_type": "markdown",
            "id": "85831e55-f589-4fa0-938d-664a782f78d6",
            "metadata": {},
            "source": [
                "验证和可视化代码："
            ]
        },
        {
            "cell_type": "code",
            "execution_count": 11,
            "id": "a680cce0-3e0e-4ec7-b95f-599636dcb866",
            "metadata": {},
            "outputs": [],
            "source": [
                "def validate_and_visualize(best_pr, save_path=\"fig5.png\"):\n",
                "    \"\"\"Validate the result and plot Fig. 5, which from the paper.\n",
                "\n",
                "    Args:\n",
                "        best_pr: The trained parameters.\n",
                "    \"\"\"\n",
                "    acts = []\n",
                "    for i in range(256):\n",
                "        cir = get_full_circuit(i)\n",
                "        qs = cir.get_qs(pr=best_pr)\n",
                "        acts.append(np.abs(qs[-1]**2).sum())\n",
                "    # seprable states\n",
                "    sep_states = get_separable_states()\n",
                "    sep_values = np.array(acts)[sep_states]\n",
                "    plt.figure(figsize=(12, 5))\n",
                "    plt.bar(range(256), acts, color='cyan', width=1.0)\n",
                "    plt.bar(sep_states, sep_values, color='orange', width=1.0)\n",
                "    plt.plot([0, 255], [0.5, 0.5], color='red')\n",
                "    plt.xlabel(\"Hypergraph states\")\n",
                "    plt.ylabel(\"Activation\")\n",
                "    plt.savefig(save_path)\n",
                "    print(f\"The result image has been save at: {save_path}\")\n",
                "    plt.show()"
            ]
        },
        {
            "cell_type": "markdown",
            "id": "26f5292e-1e1f-46cf-8501-bf8ee7dc01f2",
            "metadata": {},
            "source": [
                "## 4. 运行验证\n",
                "\n",
                "对使用梯度下降法和COBYLA方法均进行验证。可以看到其输出结果与论文[1] Fig.5 基本一致。取阈值为 0.5，在 256 个态中，所有可分离态（64个）被正确识别，192个纠缠态中有 18 个纠缠态被正确识别。"
            ]
        },
        {
            "cell_type": "code",
            "execution_count": 12,
            "id": "32573542-e269-4a34-9137-d7c42272f3c3",
            "metadata": {},
            "outputs": [
                {
                    "name": "stderr",
                    "output_type": "stream",
                    "text": [
                        "100%|██████████| 300/300 [04:26<00:00,  1.13it/s]\n"
                    ]
                },
                {
                    "name": "stdout",
                    "output_type": "stream",
                    "text": [
                        "The result image has been save at: fig5.png\n"
                    ]
                },
                {
                    "data": {
                        "image/png": "[encoded data removed]",
                        "text/plain": [
                            "<Figure size 864x360 with 1 Axes>"
                        ]
                    },
                    "metadata": {
                        "needs_background": "light"
                    },
                    "output_type": "display_data"
                },
                {
                    "name": "stdout",
                    "output_type": "stream",
                    "text": [
                        "It spends 4.56 minutes.\n",
                        "END\n"
                    ]
                }
            ],
            "source": [
                "def run():\n",
                "    t1 = time.time()\n",
                "    # 使用梯度下降法\n",
                "    best_pr = train_gd()\n",
                "    validate_and_visualize(best_pr)\n",
                "    t2 = time.time()\n",
                "    print(\"It spends {:.2f} minutes.\\nEND\".format((t2 - t1)/60))\n",
                "\n",
                "\n",
                "run()"
            ]
        },
        {
            "cell_type": "code",
            "execution_count": 13,
            "id": "5da97ca5-1376-4513-bb55-7503313011ac",
            "metadata": {},
            "outputs": [
                {
                    "name": "stdout",
                    "output_type": "stream",
                    "text": [
                        "Finish preparing data, with 126 items.\n",
                        "Begin training, it may take several minutes on cpu.\n",
                        "Finish training, the best parameters are:\n",
                        "[ 1.52680435  1.62056776 -0.03166083  1.53614936  0.01427009 -0.31209835\n",
                        "  0.09543332  0.01496778  0.29417818].\n",
                        "\n",
                        "The result image has been save at: fig5.png\n"
                    ]
                },
                {
                    "data": {
                        "image/png": "[encoded data removed]",
                        "text/plain": [
                            "<Figure size 864x360 with 1 Axes>"
                        ]
                    },
                    "metadata": {
                        "needs_background": "light"
                    },
                    "output_type": "display_data"
                },
                {
                    "name": "stdout",
                    "output_type": "stream",
                    "text": [
                        "It spends 8.17 minutes.\n",
                        "END\n"
                    ]
                }
            ],
            "source": [
                "def run2():\n",
                "    t1 = time.time()\n",
                "    # 使用 cobyla 优化器\n",
                "    best_pr = train_cobyla()\n",
                "    validate_and_visualize(best_pr)\n",
                "    t2 = time.time()\n",
                "    print(\"It spends {:.2f} minutes.\\nEND\".format((t2 - t1)/60))\n",
                "\n",
                "\n",
                "run2()"
            ]
        },
        {
            "cell_type": "markdown",
            "id": "b0a32975-ac37-4705-b79a-6ddd61d54a65",
            "metadata": {},
            "source": [
                "验证结果表明：使用 COBYLA 优化器对识别出的纠缠态具有较大激活值（Activation）并数值差异较小，较为稳定，更具鲁棒性。"
            ]
        }
    ],
    "metadata": {
        "kernelspec": {
            "display_name": "mindspore",
            "language": "python",
            "name": "mindspore"
        }
    },
    "nbformat": 4,
    "nbformat_minor": 5
}
